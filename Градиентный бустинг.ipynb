{
 "cells": [
  {
   "cell_type": "markdown",
   "metadata": {},
   "source": [
    "# Градиентный бустинг своими руками\n",
    "\n",
    "**Внимание:** в тексте задания произошли изменения - поменялось число деревьев (теперь 50), правило изменения величины шага в задании 3 и добавился параметр `random_state` у решающего дерева. Правильные ответы не поменялись, но теперь их проще получить. Также исправлена опечатка в функции `gbm_predict`.\n",
    "\n",
    "В этом задании будет использоваться датасет `boston` из `sklearn.datasets`. Оставьте последние 25% объектов для контроля качества, разделив `X` и `y` на `X_train`, `y_train` и `X_test`, `y_test`.\n",
    "\n",
    "Целью задания будет реализовать простой вариант градиентного бустинга над регрессионными деревьями для случая квадратичной функции потерь."
   ]
  },
  {
   "cell_type": "code",
   "execution_count": 1,
   "metadata": {},
   "outputs": [],
   "source": [
    "import numpy as np\n",
    "import pandas as pd\n",
    "import matplotlib.pylab as plt\n",
    "import sklearn\n",
    "from sklearn import linear_model\n",
    "from sklearn import ensemble, model_selection, metrics\n",
    "from sklearn import datasets\n",
    "from sklearn import tree\n",
    "import xgboost"
   ]
  },
  {
   "cell_type": "code",
   "execution_count": 2,
   "metadata": {},
   "outputs": [
    {
     "name": "stdout",
     "output_type": "stream",
     "text": [
      "dict_keys(['data', 'target', 'feature_names', 'DESCR', 'filename'])\n"
     ]
    }
   ],
   "source": [
    "#Загрузим датасет boston и просмотрим его ключи\n",
    "boston = datasets.load_boston()\n",
    "#print(boston)\n",
    "print(boston.keys())"
   ]
  },
  {
   "cell_type": "code",
   "execution_count": 3,
   "metadata": {},
   "outputs": [],
   "source": [
    "#Выделяем из датасета матрицу объекты-признаки и вектор ответов\n",
    "X = boston.data\n",
    "y = boston.target"
   ]
  },
  {
   "cell_type": "code",
   "execution_count": 4,
   "metadata": {},
   "outputs": [
    {
     "name": "stdout",
     "output_type": "stream",
     "text": [
      "Набор данных содержит 506 объектов и 13 признаков\n",
      "Метки классов даны для 506 объектов\n"
     ]
    }
   ],
   "source": [
    "print('Набор данных содержит {} объектов и {} признаков'.format(X.shape[0], X.shape[1]))\n",
    "print('Метки классов даны для {} объектов'.format(y.shape[0]))"
   ]
  },
  {
   "cell_type": "code",
   "execution_count": 5,
   "metadata": {},
   "outputs": [],
   "source": [
    "from sklearn.model_selection import train_test_split"
   ]
  },
  {
   "cell_type": "code",
   "execution_count": 6,
   "metadata": {},
   "outputs": [],
   "source": [
    "#Разделяем данные на обучающую и тестовую выборки\n",
    "(X_train, X_test, y_train, y_test) = train_test_split(X, y, test_size = 0.25, random_state = 0)"
   ]
  },
  {
   "cell_type": "markdown",
   "metadata": {},
   "source": [
    "## Задание 1\n",
    "\n",
    "Как вы уже знаете из лекций, **бустинг** - это метод построения композиций базовых алгоритмов с помощью последовательного добавления к текущей композиции нового алгоритма с некоторым коэффициентом. \n",
    "\n",
    "Градиентный бустинг обучает каждый новый алгоритм так, чтобы он приближал антиградиент ошибки по ответам композиции на обучающей выборке. Аналогично минимизации функций методом градиентного спуска, в градиентном бустинге мы подправляем композицию, изменяя алгоритм в направлении антиградиента ошибки.\n",
    "\n",
    "Воспользуйтесь формулой из лекций, задающей ответы на обучающей выборке, на которые нужно обучать новый алгоритм (фактически это лишь чуть более подробно расписанный градиент от ошибки), и получите частный ее случай, если функция потерь `L` - квадрат отклонения ответа композиции `a(x)` от правильного ответа `y` на данном `x`.\n",
    "\n",
    "Если вы давно не считали производную самостоятельно, вам поможет таблица производных элементарных функций (которую несложно найти в интернете) и правило дифференцирования сложной функции. После дифференцирования квадрата у вас возникнет множитель 2 — т.к. нам все равно предстоит выбирать коэффициент, с которым будет добавлен новый базовый алгоритм, проигноируйте этот множитель при дальнейшем построении алгоритма."
   ]
  },
  {
   "cell_type": "code",
   "execution_count": 7,
   "metadata": {},
   "outputs": [],
   "source": [
    "#Частный случай формулы, задающей ответы на обучающей выборке, в случае использования \n",
    "#среднеквадратической ошибки в качестве функции потерь\n",
    "def L_der(a, x, y):\n",
    "    return 2*(a(x) - y)    "
   ]
  },
  {
   "cell_type": "markdown",
   "metadata": {},
   "source": [
    "## Задание 2\n",
    "\n",
    "Заведите массив для объектов `DecisionTreeRegressor` (будем их использовать в качестве базовых алгоритмов) и для вещественных чисел (это будут коэффициенты перед базовыми алгоритмами). \n",
    "\n",
    "В цикле от обучите последовательно 50 решающих деревьев с параметрами `max_depth=5` и `random_state=42` (остальные параметры - по умолчанию). В бустинге зачастую используются сотни и тысячи деревьев, но мы ограничимся 50, чтобы алгоритм работал быстрее, и его было проще отлаживать (т.к. цель задания разобраться, как работает метод). Каждое дерево должно обучаться на одном и том же множестве объектов, но ответы, которые учится прогнозировать дерево, будут меняться в соответствие с полученным в задании 1 правилом. \n",
    "\n",
    "Попробуйте для начала всегда брать коэффициент равным 0.9. Обычно оправдано выбирать коэффициент значительно меньшим - порядка 0.05 или 0.1, но т.к. в нашем учебном примере на стандартном датасете будет всего 50 деревьев, возьмем для начала шаг побольше.\n",
    "\n",
    "В процессе реализации обучения вам потребуется функция, которая будет вычислять прогноз построенной на данный момент композиции деревьев на выборке `X`:\n",
    "\n",
    "```\n",
    "def gbm_predict(X):\n",
    "    return [sum([coeff * algo.predict([x])[0] for algo, coeff in zip(base_algorithms_list, coefficients_list)]) for x in X]\n",
    "(считаем, что base_algorithms_list - список с базовыми алгоритмами, coefficients_list - список с коэффициентами перед алгоритмами)\n",
    "```\n",
    "\n",
    "Эта же функция поможет вам получить прогноз на контрольной выборке и оценить качество работы вашего алгоритма с помощью `mean_squared_error` в `sklearn.metrics`. \n",
    "\n",
    "Возведите результат в степень 0.5, чтобы получить `RMSE`. Полученное значение `RMSE` — **ответ в пункте 2**."
   ]
  },
  {
   "cell_type": "code",
   "execution_count": 8,
   "metadata": {},
   "outputs": [],
   "source": [
    "def gbm_predict(X):\n",
    "    return [sum([coeff * algo.predict([x])[0] for algo, coeff in zip(base_algorithms_list, coefficients_list)]) for x in X]"
   ]
  },
  {
   "cell_type": "code",
   "execution_count": 9,
   "metadata": {},
   "outputs": [],
   "source": [
    "?tree.DecisionTreeRegressor"
   ]
  },
  {
   "cell_type": "code",
   "execution_count": 10,
   "metadata": {},
   "outputs": [
    {
     "name": "stdout",
     "output_type": "stream",
     "text": [
      "Wall time: 51 s\n"
     ]
    }
   ],
   "source": [
    "%%time\n",
    "base_algorithms_list = []\n",
    "coefficients_list = []\n",
    "y_train_cur = y_train\n",
    "coeff_cur = 0.9\n",
    "for i in range(50):\n",
    "    #Создаем новый базовый алгоритм и обучаем его\n",
    "    algo = tree.DecisionTreeRegressor(max_depth = 5, random_state = 42)\n",
    "    algo.fit(X_train, y_train_cur)\n",
    "    \n",
    "    #Добавляем базовый алгоритм и коэффициент в соответствующей списки\n",
    "    base_algorithms_list.append(algo)\n",
    "    coefficients_list.append(coeff_cur)\n",
    "    \n",
    "    #Вычисляем ошибку текущей композиции\n",
    "    y_train_cur = y_train - gbm_predict(X_train)\n",
    "    mse_2 = metrics.mean_squared_error(y_test, gbm_predict(X_test))\n",
    "    rmse_2 = mse_2**0.5    "
   ]
  },
  {
   "cell_type": "code",
   "execution_count": 11,
   "metadata": {},
   "outputs": [
    {
     "name": "stdout",
     "output_type": "stream",
     "text": [
      "Ошибка текущей композиции на обучающей выборке: -1.305622276959184e-13\n",
      "Ошибка композиции на обучающей выборке: 5.204\n"
     ]
    }
   ],
   "source": [
    "print('Ошибка текущей композиции на обучающей выборке: {}'.format(sum(y_train_cur)))\n",
    "print('Ошибка композиции на обучающей выборке: {}'.format(round(rmse_2,3)))"
   ]
  },
  {
   "cell_type": "code",
   "execution_count": 12,
   "metadata": {},
   "outputs": [],
   "source": [
    "with open(\"grad_boosting_1.txt\", 'w') as answer_1:\n",
    "    answer_1.write(str(rmse_2))\n",
    "answer_1.close()"
   ]
  },
  {
   "cell_type": "markdown",
   "metadata": {},
   "source": [
    "## Задание 3\n",
    "\n",
    "Вас может также беспокоить, что двигаясь с постоянным шагом, вблизи минимума ошибки ответы на обучающей выборке меняются слишком резко, перескакивая через минимум. \n",
    "\n",
    "Попробуйте уменьшать вес перед каждым алгоритмом с каждой следующей итерацией по формуле `0.9 / (1.0 + i)`, где `i` - номер итерации (от 0 до 49). Используйте качество работы алгоритма как **ответ в пункте 3**. \n",
    "\n",
    "В реальности часто применяется следующая стратегия выбора шага: как только выбран алгоритм, подберем коэффициент перед ним численным методом оптимизации таким образом, чтобы отклонение от правильных ответов было минимальным. Мы не будем предлагать вам реализовать это для выполнения задания, но рекомендуем попробовать разобраться с такой стратегией и реализовать ее при случае для себя."
   ]
  },
  {
   "cell_type": "code",
   "execution_count": 13,
   "metadata": {},
   "outputs": [
    {
     "name": "stdout",
     "output_type": "stream",
     "text": [
      "Wall time: 51.2 s\n"
     ]
    }
   ],
   "source": [
    "%%time\n",
    "base_algorithms_list = []\n",
    "coefficients_list = []\n",
    "y_train_cur = y_train\n",
    "coeff_cur = 0.9\n",
    "\n",
    "for i in range(50):\n",
    "    #создаем базовый алгоритм и обучаем его\n",
    "    algo = tree.DecisionTreeRegressor(max_depth = 5, random_state = 42)\n",
    "    algo.fit(X_train, y_train_cur)\n",
    "    \n",
    "    #добавляем алгоритм и текущий коэффициент обучения в соответствующие списки \n",
    "    base_algorithms_list.append(algo)\n",
    "    coefficients_list.append(coeff_cur)\n",
    "    \n",
    "    #Вычисляем новый коэффициент обучения\n",
    "    coeff_cur = 0.9/(1.0 + i)\n",
    "    \n",
    "    #Находим ошибку текущей композиции\n",
    "    y_train_cur = y_train - gbm_predict(X_train)\n",
    "    mse_3 = metrics.mean_squared_error(y_test, gbm_predict(X_test))\n",
    "    rmse_3 = mse_3**0.5"
   ]
  },
  {
   "cell_type": "code",
   "execution_count": 14,
   "metadata": {},
   "outputs": [
    {
     "name": "stdout",
     "output_type": "stream",
     "text": [
      "Ошибка текущей композиции на обучающей выборке: 2.7101783232715366\n",
      "Ошибка композиции на обучающей выборке: 5.125\n"
     ]
    }
   ],
   "source": [
    "print('Ошибка текущей композиции на обучающей выборке: {}'.format(sum(y_train_cur)))\n",
    "print('Ошибка композиции на обучающей выборке: {}'.format(round(rmse_3,3)))"
   ]
  },
  {
   "cell_type": "markdown",
   "metadata": {},
   "source": [
    "Как мы видим, увеличилась ошибка на обучающей выборке, однако на тестовой результат немного улучшился."
   ]
  },
  {
   "cell_type": "code",
   "execution_count": 15,
   "metadata": {},
   "outputs": [],
   "source": [
    "with open(\"grad_boosting_2.txt\", 'w') as answer_1:\n",
    "    answer_1.write(str(rmse_2))\n",
    "answer_1.close()"
   ]
  },
  {
   "cell_type": "markdown",
   "metadata": {},
   "source": [
    "## Задание 4\n",
    "\n",
    "Реализованный вами метод - градиентный бустинг над деревьями - очень популярен в машинном обучении. Он представлен как в самой библиотеке `sklearn`, так и в сторонней библиотеке `XGBoost`, которая имеет свой питоновский интерфейс. На практике `XGBoost` работает заметно лучше `GradientBoostingRegressor` из `sklearn`, но для этого задания вы можете использовать любую реализацию. \n",
    "\n",
    "Исследуйте, переобучается ли градиентный бустинг с ростом числа итераций (и подумайте, почему), а также с ростом глубины деревьев. На основе наблюдений выпишите через пробел номера правильных из приведенных ниже утверждений в порядке возрастания номера (это будет **ответ в п.4**):\n",
    "\n",
    "    1. С увеличением числа деревьев, начиная с некоторого момента, качество работы градиентного бустинга не меняется существенно.\n",
    "\n",
    "    2. С увеличением числа деревьев, начиная с некоторого момента, градиентный бустинг начинает переобучаться.\n",
    "\n",
    "    3. С ростом глубины деревьев, начиная с некоторого момента, качество работы градиентного бустинга на тестовой выборке начинает ухудшаться.\n",
    "\n",
    "    4. С ростом глубины деревьев, начиная с некоторого момента, качество работы градиентного бустинга перестает существенно изменяться"
   ]
  },
  {
   "cell_type": "markdown",
   "metadata": {},
   "source": [
    "Помимо указанных в пункте 4 задач, выполним также сравнение непосредственно функций, реализующих градиентный бустинг - GradientBoostingRegressor из библиотеки sklearn, и XGBRegressor из XGBoost."
   ]
  },
  {
   "cell_type": "markdown",
   "metadata": {},
   "source": [
    "Начнем с XGBRegressor. Проведем два цикла построения моделей. В первом изменяемым параметром будет количество базовых алгоритмов, а во втором - максимальная глубина деревьев. Далее построим графики RMSE на обучении и тесте как функций изменяемых в циклах параметров."
   ]
  },
  {
   "cell_type": "code",
   "execution_count": 16,
   "metadata": {},
   "outputs": [
    {
     "name": "stdout",
     "output_type": "stream",
     "text": [
      "Wall time: 967 ms\n"
     ]
    }
   ],
   "source": [
    "%%time\n",
    "#Изменяем количество базовых алгоритмов в композиции\n",
    "xgb_trees_test = []\n",
    "xgb_trees_train = []\n",
    "n_trees = np.arange(2, 50, 2)\n",
    "\n",
    "for n_tree in n_trees:\n",
    "    #создаем объект класса градиентного бустинга и обучаем его на тестовой выборке\n",
    "    estimator = xgboost.XGBRegressor(max_depth = 5, n_estimators = n_tree)\n",
    "    estimator.fit(X_train, y_train)\n",
    "    \n",
    "    #измеряем ошибку на обучении\n",
    "    score_train = metrics.mean_squared_error(y_train, estimator.predict(X_train))**0.5\n",
    "    xgb_trees_train.append(score_train)\n",
    "    \n",
    "    #измеряем ошибку на тестовой выборке\n",
    "    score_test = metrics.mean_squared_error(y_test, estimator.predict(X_test))**0.5\n",
    "    xgb_trees_test.append(score_test)        "
   ]
  },
  {
   "cell_type": "code",
   "execution_count": 18,
   "metadata": {},
   "outputs": [
    {
     "name": "stdout",
     "output_type": "stream",
     "text": [
      "Wall time: 1.29 s\n"
     ]
    }
   ],
   "source": [
    "%%time\n",
    "#Повторяем те же шаги, но сейчас изменяем максимальную глубину решающих деревьев, \n",
    "#над которыми производим бустинг\n",
    "xgb_depth_test = []\n",
    "xgb_depth_train = []\n",
    "max_depth = np.arange(2, 32, 2)\n",
    "\n",
    "for depth in max_depth:\n",
    "    estimator = xgboost.XGBRegressor(max_depth = depth, n_estimators = 100)\n",
    "    estimator.fit(X_train, y_train)\n",
    "    \n",
    "    score_train = metrics.mean_squared_error(y_train, estimator.predict(X_train))**0.5\n",
    "    xgb_depth_train.append(score_train)\n",
    "    \n",
    "    score_test = metrics.mean_squared_error(y_test, estimator.predict(X_test))**0.5\n",
    "    xgb_depth_test.append(score_test)"
   ]
  },
  {
   "cell_type": "code",
   "execution_count": 20,
   "metadata": {},
   "outputs": [
    {
     "data": {
      "image/png": "[encoded data removed]",
      "text/plain": [
       "<Figure size 576x432 with 1 Axes>"
      ]
     },
     "metadata": {
      "needs_background": "light"
     },
     "output_type": "display_data"
    }
   ],
   "source": [
    "plt.figure(figsize = (8, 6))\n",
    "plt.plot(n_trees, xgb_trees_train, marker = '.', label = 'обучение')\n",
    "plt.plot(n_trees, xgb_trees_test, marker = '.', label = 'тест')\n",
    "plt.grid(True)\n",
    "plt.xlabel('Количество алгоритмов в композиции')\n",
    "plt.ylabel('RMSE')\n",
    "plt.title('RMSE градиентного бустинга (XGBoost) как функция количества базовых алгоритмов в композиции')\n",
    "plt.legend()\n",
    "plt.show()"
   ]
  },
  {
   "cell_type": "code",
   "execution_count": 21,
   "metadata": {},
   "outputs": [
    {
     "data": {
      "image/png": "[encoded data removed]",
      "text/plain": [
       "<Figure size 576x432 with 1 Axes>"
      ]
     },
     "metadata": {
      "needs_background": "light"
     },
     "output_type": "display_data"
    }
   ],
   "source": [
    "plt.figure(figsize = (8, 6))\n",
    "plt.plot(max_depth, xgb_depth_train, marker = '.', label = 'обучение')\n",
    "plt.plot(max_depth, xgb_depth_test, marker = '.', label = 'тест')\n",
    "plt.grid(True)\n",
    "plt.xlabel('Максимальная глубина деревьев')\n",
    "plt.ylabel('RMSE')\n",
    "plt.title('RMSE градиентного бустинга (XGBoost) как функция максимальной глубины деревьев')\n",
    "plt.legend()\n",
    "plt.show()"
   ]
  },
  {
   "cell_type": "markdown",
   "metadata": {},
   "source": [
    "Теперь получим те же зависимости для функции из библиотеки scikit_learn."
   ]
  },
  {
   "cell_type": "code",
   "execution_count": 22,
   "metadata": {},
   "outputs": [
    {
     "name": "stdout",
     "output_type": "stream",
     "text": [
      "Wall time: 1.1 s\n"
     ]
    }
   ],
   "source": [
    "%%time\n",
    "#Изменяем количество базовых алгоритмов в композиции\n",
    "skl_trees_train_list = []\n",
    "skl_trees_test_list = []\n",
    "trees_list = np.arange(2, 50, 2)\n",
    "\n",
    "for n_tree in trees_list:\n",
    "    reg_trees = ensemble.GradientBoostingRegressor(n_estimators = n_tree, max_depth = 5)\n",
    "    reg_trees.fit(X_train, y_train)\n",
    "    \n",
    "    trees_train = (metrics.mean_squared_error(y_train, reg_trees.predict(X_train)))**0.5\n",
    "    skl_trees_train_list.append(trees_train)\n",
    "    \n",
    "    trees_test = (metrics.mean_squared_error(y_test, reg_trees.predict(X_test)))**0.5\n",
    "    skl_trees_test_list.append(trees_test)"
   ]
  },
  {
   "cell_type": "code",
   "execution_count": 23,
   "metadata": {},
   "outputs": [
    {
     "name": "stdout",
     "output_type": "stream",
     "text": [
      "Wall time: 4.22 s\n"
     ]
    }
   ],
   "source": [
    "%%time\n",
    "#Повторяем те же шаги, но сейчас изменяем максимальную глубину решающих деревьев, \n",
    "#над которыми производим бустинг\n",
    "skl_depth_train_list = []\n",
    "skl_depth_test_list = []\n",
    "depth_list = np.arange(2, 32, 2)\n",
    "\n",
    "for depth in depth_list:\n",
    "    #создаем объект регрессора и обучаем его на соответствующей выборке\n",
    "    reg_depth = ensemble.GradientBoostingRegressor(n_estimators = 100, max_depth = depth)\n",
    "    reg_depth.fit(X_train, y_train)\n",
    "    \n",
    "    #измеряем ошибку на обучении\n",
    "    depth_train = (metrics.mean_squared_error(y_train, reg_depth.predict(X_train)))**0.5\n",
    "    skl_depth_train_list.append(depth_train)\n",
    "    \n",
    "    #измеряем ошибку на тесте\n",
    "    depth_test = (metrics.mean_squared_error(y_test, reg_depth.predict(X_test)))**0.5\n",
    "    skl_depth_test_list.append(depth_test)"
   ]
  },
  {
   "cell_type": "code",
   "execution_count": 24,
   "metadata": {},
   "outputs": [
    {
     "data": {
      "image/png": "[encoded data removed]",
      "text/plain": [
       "<Figure size 576x432 with 1 Axes>"
      ]
     },
     "metadata": {
      "needs_background": "light"
     },
     "output_type": "display_data"
    }
   ],
   "source": [
    "plt.figure(figsize = (8,6))\n",
    "plt.plot(trees_list, skl_trees_train_list, marker = '.', label = 'Обучение')\n",
    "plt.plot(trees_list, skl_trees_test_list, marker = '.', label = 'Тест')\n",
    "plt.grid(True)\n",
    "plt.xlabel('Количество базовых алгоритмов в композиции')\n",
    "plt.ylabel('RMSE')\n",
    "plt.legend()\n",
    "plt.title('RMSE градиентного бустинга (sklearn) как функция количества базовых алгоритмов в композиции')\n",
    "plt.show()"
   ]
  },
  {
   "cell_type": "code",
   "execution_count": 25,
   "metadata": {},
   "outputs": [
    {
     "data": {
      "image/png": "[encoded data removed]",
      "text/plain": [
       "<Figure size 576x432 with 1 Axes>"
      ]
     },
     "metadata": {
      "needs_background": "light"
     },
     "output_type": "display_data"
    }
   ],
   "source": [
    "plt.figure(figsize = (8,6))\n",
    "plt.plot(depth_list, skl_depth_train_list, marker = '.', label = 'Обучение')\n",
    "plt.plot(depth_list, skl_depth_test_list, marker = '.', label = 'Тест')\n",
    "plt.grid(True)\n",
    "plt.xlabel('Максимальная глубина деревьев')\n",
    "plt.ylabel('RMSE')\n",
    "plt.legend()\n",
    "plt.title('RMSE градиентного бустинга (sklearn) как функция максимальной глубины решающих деревьев')\n",
    "plt.show()"
   ]
  },
  {
   "cell_type": "markdown",
   "metadata": {},
   "source": [
    "### Выводы по заданию 4"
   ]
  },
  {
   "cell_type": "markdown",
   "metadata": {},
   "source": [
    "Судя по построенным выше графикам можно сказать, что с увеличением числа деревьев, начиная с некоторого момента, качество работы градиентного бустинга не меняется существенно. Это видно на обоих графиках: для XGBoost начиная с количества деревьев, равного 10, RMSE на тесте практически не меняется; та же картина для  GradientBoostingRegressor, c той лишь разнице, что ему требуется в два раза больше шагов в цикле, чтобы выйти на предел по RMSE. \n",
    " Также, можно сказать, что утверждения 3 и 4 оба верны - начиная с некторого момента качество градиентного бустинга на тестовой выборке начинает ухудшаться, однако рост RMSE длится недолго, и вскоре огибка на тесте вновь выходит на некторый предельный уровень. Это хорошо видно на втором графике для GradientBoostingRegressor: при максимальной глубине деревьев, равной 10 RMSE заметно меньше, чем при максимальной глубине, равной 15, однако начиная с 15-ти качество перестает существенно меняться. Очевидно, что мы имеем дело с переобучением, т.к. RMSE на обучающей выборке падает до нуля, в то врем, как на тесте ошиба растет. На графике зависимости RMSE от максимальной глубины деревьев для реализации бустпнга из XGBoost каких-то значимых изменений и вовсе не наблюдается.\n",
    "Таким образом, верны утверждения 1, 3 и 4"
   ]
  },
  {
   "cell_type": "markdown",
   "metadata": {},
   "source": [
    "Что же касается сравнения XGBRegressor из XGBoost и GradientBoostingRegressor из sklearn, тут можно сказать, что второй вариант показывает немного лучшие показатели на тестовой выборке - в случае изменения количества деревьев предельный уровень RMSE для GradientBoostingRegressor чуть меньше 4, в то время, как для XGBRegressor RMSE достигает примерно 4.5, но уменьшить ошибку ещё сильнее не удаётся. Что касается случая, когда изменяемым параметром была максимальная глубина решающих деревьев в композиции, лучший результат также показал GradientBoostingRegressor. Для этого ниже выведу минимальное значение RMSE, которое удалось получить обоим моделям."
   ]
  },
  {
   "cell_type": "code",
   "execution_count": 26,
   "metadata": {},
   "outputs": [
    {
     "name": "stdout",
     "output_type": "stream",
     "text": [
      "Минимальное RMSE при изменении максимальной глубины деревьев для GradientBoostingRegressor: 3.811\n",
      "Минимальное RMSE при изменении максимальной глубины деревьев для XGBRegressor: 4.541\n"
     ]
    }
   ],
   "source": [
    "print('Минимальное RMSE при изменении максимальной глубины деревьев для \\\n",
    "GradientBoostingRegressor: {}'.format(round(min(skl_depth_test_list), 3)))\n",
    "print('Минимальное RMSE при изменении максимальной глубины деревьев для \\\n",
    "XGBRegressor: {}'.format(round(min(xgb_depth_test), 3)))"
   ]
  },
  {
   "cell_type": "markdown",
   "metadata": {},
   "source": [
    "Однако стоит отметить, что несмотря на то, что по качеству работы GradientBoostingRegressor из sklearn превосходит XGBRegressor из XGBoost, XGBRegressor работает заметно быстрее. При изменении числа деревьев цикл обучения прошёл за 967 ms против 1.1s для GradientBoostingRegressor. Во втором случае функции из XGBoost и вовсе потребовалось в 3 раза меньше времени (1.29s против 4.22s). Учитывая, что разница в качестве работы моделей на тестовой выборке не так велика, XGBRegressor может быть более предпочтителен при работе с большими наборами данных, тогда как с маленькими объемами данных лучше работает GradientBoostingRegressor."
   ]
  },
  {
   "cell_type": "markdown",
   "metadata": {},
   "source": [
    "## Задание 5\n",
    "\n",
    "Сравните получаемое с помощью градиентного бустинга качество с качеством работы линейной регрессии. \n",
    "\n",
    "Для этого обучите `LinearRegression` из `sklearn.linear_model` (с параметрами по умолчанию) на обучающей выборке и оцените для прогнозов полученного алгоритма на тестовой выборке `RMSE`. Полученное качество - ответ в **пункте 5**. \n",
    "\n",
    "В данном примере качество работы простой модели должно было оказаться хуже, но не стоит забывать, что так бывает не всегда. В заданиях к этому курсу вы еще встретите пример обратной ситуации."
   ]
  },
  {
   "cell_type": "code",
   "execution_count": 27,
   "metadata": {},
   "outputs": [],
   "source": [
    "#Разбиваем выборку на обучающую и тестовую\n",
    "n_split = np.int(np.round(y.shape[0]*0.75))\n",
    "\n",
    "X_train_m = X[:n_split]\n",
    "\n",
    "y_train_m = y[:n_split]\n",
    "\n",
    "X_test_m = X[n_split:]\n",
    "\n",
    "y_test_m = y[n_split:]\n",
    "\n",
    "#создаем объект линейной регресии\n",
    "lin = linear_model.LinearRegression()"
   ]
  },
  {
   "cell_type": "code",
   "execution_count": 28,
   "metadata": {},
   "outputs": [
    {
     "data": {
      "text/plain": [
       "LinearRegression(copy_X=True, fit_intercept=True, n_jobs=None, normalize=False)"
      ]
     },
     "execution_count": 28,
     "metadata": {},
     "output_type": "execute_result"
    }
   ],
   "source": [
    "#Обучаем модель\n",
    "lin.fit(X_train_m, y_train_m)"
   ]
  },
  {
   "cell_type": "code",
   "execution_count": 29,
   "metadata": {},
   "outputs": [
    {
     "name": "stdout",
     "output_type": "stream",
     "text": [
      "7.819688142087171\n"
     ]
    }
   ],
   "source": [
    "#Вычисляем ошибку на тестовой выборке\n",
    "lin_model_error = str(metrics.mean_squared_error(y_test_m, lin.predict(X_test_m))**0.5)\n",
    "print(lin_model_error)"
   ]
  },
  {
   "cell_type": "code",
   "execution_count": 30,
   "metadata": {},
   "outputs": [
    {
     "data": {
      "text/plain": [
       "array([-2.78329309e-01,  4.59256979e-02,  6.87179625e-02,  9.12574485e-01,\n",
       "       -1.52804176e+01,  5.28423360e+00, -1.44849576e-03, -1.31775722e+00,\n",
       "        6.33730583e-01, -1.45383064e-02, -8.12428168e-01,  1.87574048e-03,\n",
       "       -4.55645319e-01])"
      ]
     },
     "execution_count": 30,
     "metadata": {},
     "output_type": "execute_result"
    }
   ],
   "source": [
    "lin.coef_"
   ]
  },
  {
   "cell_type": "code",
   "execution_count": 31,
   "metadata": {},
   "outputs": [],
   "source": [
    "with open(\"grad_boosting_5.txt\", 'w') as answer_5:\n",
    "    answer_5.write(lin_model_error)"
   ]
  },
  {
   "cell_type": "markdown",
   "metadata": {},
   "source": [
    "В данном случае, качество работы линейной регрессии заметно хуже, чем качество работы градиентного спуска. Обе реализации градиентного спуска получили значительно меньшее RMSE на тестовой выборке."
   ]
  },
  {
   "cell_type": "code",
   "execution_count": null,
   "metadata": {},
   "outputs": [],
   "source": []
  }
 ],
 "metadata": {
  "kernelspec": {
   "display_name": "Python 3",
   "language": "python",
   "name": "python3"
  },
  "language_info": {
   "codemirror_mode": {
    "name": "ipython",
    "version": 3
   },
   "file_extension": ".py",
   "mimetype": "text/x-python",
   "name": "python",
   "nbconvert_exporter": "python",
   "pygments_lexer": "ipython3",
   "version": "3.7.6"
  }
 },
 "nbformat": 4,
 "nbformat_minor": 1
}
