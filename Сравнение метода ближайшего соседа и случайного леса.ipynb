{
 "cells": [
  {
   "cell_type": "markdown",
   "metadata": {},
   "source": [
    "# Сравнение 1NN и случайного леса"
   ]
  },
  {
   "cell_type": "markdown",
   "metadata": {},
   "source": [
    "Целью задания будет реализовать самый простой метрический классификатор — метод ближайшего соседа, а также сравнить качество работы реализованного вами 1NN с RandomForestClassifier из sklearn на 1000 деревьях."
   ]
  },
  {
   "cell_type": "code",
   "execution_count": 1,
   "metadata": {},
   "outputs": [],
   "source": [
    "import numpy as np\n",
    "import sklearn\n",
    "from sklearn import ensemble, metrics, datasets"
   ]
  },
  {
   "cell_type": "markdown",
   "metadata": {},
   "source": [
    "## Подготовка данных"
   ]
  },
  {
   "cell_type": "markdown",
   "metadata": {},
   "source": [
    "В этом задании будет использоваться датасет digits из sklearn.datasets. "
   ]
  },
  {
   "cell_type": "code",
   "execution_count": 2,
   "metadata": {},
   "outputs": [],
   "source": [
    "#Загружаем датасет \n",
    "digits = datasets.load_digits()\n",
    "\n",
    "#Выделяем матрицу объектов-признаков и вектор ответов\n",
    "data = digits.data\n",
    "target = digits.target"
   ]
  },
  {
   "cell_type": "code",
   "execution_count": 3,
   "metadata": {},
   "outputs": [
    {
     "name": "stdout",
     "output_type": "stream",
     "text": [
      "Набор данных содержит 1797 объектов и 64 признаков\n"
     ]
    }
   ],
   "source": [
    "#Просмотрим размерность данных\n",
    "print('Набор данных содержит {} объектов и {} признаков'.format(data.shape[0], data.shape[1]))"
   ]
  },
  {
   "cell_type": "code",
   "execution_count": 4,
   "metadata": {},
   "outputs": [
    {
     "name": "stdout",
     "output_type": "stream",
     "text": [
      "{0, 1, 2, 3, 4, 5, 6, 7, 8, 9}\n"
     ]
    }
   ],
   "source": [
    "#Теперь узнаем, какие уникальные метки классов есть в наборе данных\n",
    "print(set(target))"
   ]
  },
  {
   "cell_type": "markdown",
   "metadata": {},
   "source": [
    "Таким образом, как можно было предположить из описания датасета, в нем есть 10 различных классов - каждый класс представляет одну из цифр. "
   ]
  },
  {
   "cell_type": "code",
   "execution_count": 5,
   "metadata": {},
   "outputs": [],
   "source": [
    "#Разбиваем данные на обучение и тест\n",
    "\n",
    "from sklearn.model_selection import train_test_split\n",
    "data_train, data_test, target_train, target_test = train_test_split = train_test_split(data, target,\n",
    "                                                        test_size = 0.25, random_state = 0, stratify = target)"
   ]
  },
  {
   "cell_type": "code",
   "execution_count": 6,
   "metadata": {},
   "outputs": [
    {
     "name": "stdout",
     "output_type": "stream",
     "text": [
      "Набор данных содержит 178 объектов класса 0\n",
      "Набор данных содержит 182 объектов класса 1\n",
      "Набор данных содержит 177 объектов класса 2\n",
      "Набор данных содержит 183 объектов класса 3\n",
      "Набор данных содержит 181 объектов класса 4\n",
      "Набор данных содержит 182 объектов класса 5\n",
      "Набор данных содержит 181 объектов класса 6\n",
      "Набор данных содержит 179 объектов класса 7\n",
      "Набор данных содержит 174 объектов класса 8\n",
      "Набор данных содержит 180 объектов класса 9\n"
     ]
    }
   ],
   "source": [
    "for tar in set(target):\n",
    "    print('Набор данных содержит {} объектов класса {}'.format(np.sum(target == tar), tar))"
   ]
  },
  {
   "cell_type": "markdown",
   "metadata": {},
   "source": [
    "Учитывая, что выборка сбалансированная - количество объектов, относящихся к каждому из классов, примерно одинаково, в данной задаче мы можем использовать accuracy в качестве метрики качества."
   ]
  },
  {
   "cell_type": "markdown",
   "metadata": {},
   "source": [
    "## Задание №1"
   ]
  },
  {
   "cell_type": "markdown",
   "metadata": {},
   "source": [
    "Для начала обучим RandomForestClassifier с количеством деревьев, равным 1000"
   ]
  },
  {
   "cell_type": "code",
   "execution_count": 7,
   "metadata": {},
   "outputs": [
    {
     "name": "stdout",
     "output_type": "stream",
     "text": [
      "Wall time: 5.29 s\n"
     ]
    }
   ],
   "source": [
    "%%time\n",
    "\n",
    "#Создаем объект случайного леса и обучаем его на соответствующей выборке\n",
    "rf_est = ensemble.RandomForestClassifier(n_estimators=1000)\n",
    "rf_est.fit(data_train, target_train)\n",
    "\n",
    "#Предсказываем метки классов на тестовой выборке\n",
    "rf_predicts = rf_est.predict(data_test)\n",
    "\n",
    "#Считаем accuracy на тестовой выборке по кросс-валидации\n",
    "rf_acc_score = metrics.accuracy_score(target_test, rf_predicts)"
   ]
  },
  {
   "cell_type": "code",
   "execution_count": 8,
   "metadata": {},
   "outputs": [
    {
     "name": "stdout",
     "output_type": "stream",
     "text": [
      "Качество случайного леса на тестовой выборке: 0.976\n"
     ]
    }
   ],
   "source": [
    "print('Качество случайного леса на тестовой выборке: {}'.format(round(rf_acc_score, 3)))"
   ]
  },
  {
   "cell_type": "code",
   "execution_count": 9,
   "metadata": {},
   "outputs": [],
   "source": [
    "with open (\"kNN_vs_RF_2.txt\", 'w') as ans_2:\n",
    "    ans_2.write(str(1 - rf_acc_score))\n",
    "ans_2.close()"
   ]
  },
  {
   "cell_type": "markdown",
   "metadata": {},
   "source": [
    "## Задание №2"
   ]
  },
  {
   "cell_type": "markdown",
   "metadata": {},
   "source": [
    "Теперь реализуем метод одного ближайшего соседа с евклидовой метрикой для задачи классификации."
   ]
  },
  {
   "cell_type": "code",
   "execution_count": 10,
   "metadata": {},
   "outputs": [],
   "source": [
    "from sklearn import neighbors"
   ]
  },
  {
   "cell_type": "code",
   "execution_count": 11,
   "metadata": {},
   "outputs": [
    {
     "name": "stdout",
     "output_type": "stream",
     "text": [
      "Wall time: 117 ms\n"
     ]
    }
   ],
   "source": [
    "%%time\n",
    "\n",
    "#Создаем объект классификатора и проводим обучение на соответствующей выборке\n",
    "neigh = neighbors.KNeighborsClassifier(n_neighbors = 1, metric = 'euclidean')\n",
    "neigh.fit(data_train, target_train)\n",
    "\n",
    "#Предсказываем метки классов на тестовой выборке\n",
    "neigh_predicts = neigh.predict(data_test)\n",
    "\n",
    "#Вычисляем accuracy на тесте\n",
    "neigh_score = metrics.accuracy_score(target_test, neigh_predicts)"
   ]
  },
  {
   "cell_type": "code",
   "execution_count": 12,
   "metadata": {},
   "outputs": [
    {
     "name": "stdout",
     "output_type": "stream",
     "text": [
      "Качество 1NearestNeighbor на тестовой выборке: 0.982\n"
     ]
    }
   ],
   "source": [
    "print('Качество 1NearestNeighbor на тестовой выборке: {}'.format(round(neigh_score, 3)))"
   ]
  },
  {
   "cell_type": "code",
   "execution_count": 13,
   "metadata": {},
   "outputs": [],
   "source": [
    "with open(\"knn_answer.txt\", 'w') as ans_1:\n",
    "    ans_1.write(str(1 - neigh_score))\n",
    "ans_1.close()"
   ]
  },
  {
   "cell_type": "markdown",
   "metadata": {},
   "source": [
    "### Выводы по заданию"
   ]
  },
  {
   "cell_type": "markdown",
   "metadata": {},
   "source": [
    "Итак, мы видим, что на данном наборе данных RandomForestClassifier и kNearestNeighbors показывают практически одинаковые результаты, однако примечательно то, что kNN потребовалось всего 117ms против 5.29s для RandomForestClassifier, что примерно в 45 раз быстрее! Это любопытный результат, который показывает, что на некоторых датасетах лучшее решение - самое простое. Конечно, нельзя делать серьезных выводов опираясь только на сравнение качества методов на данном наборе данных, ибо это всего лишь тренировочный набор. В этом датасете классы сбалансированны и объекты каждого класса хорошо отличимы друг от друга (если бы объекты разных классов были перемешаны в пространстве признаков, метод ближайшего соседа точно не показал бы такое высокое качество на тесте). Конечно, случайный лес куда более гибкий и универсальный метод, но данный пример показывает, что порой простые методы тоже показывают очень хорошие результаты."
   ]
  }
 ],
 "metadata": {
  "kernelspec": {
   "display_name": "Python 3",
   "language": "python",
   "name": "python3"
  },
  "language_info": {
   "codemirror_mode": {
    "name": "ipython",
    "version": 3
   },
   "file_extension": ".py",
   "mimetype": "text/x-python",
   "name": "python",
   "nbconvert_exporter": "python",
   "pygments_lexer": "ipython3",
   "version": "3.7.6"
  }
 },
 "nbformat": 4,
 "nbformat_minor": 4
}
