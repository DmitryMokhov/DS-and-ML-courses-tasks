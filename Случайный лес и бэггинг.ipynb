{
 "cells": [
  {
   "cell_type": "markdown",
   "metadata": {},
   "source": [
    "# Случайный лес и бэггинг"
   ]
  },
  {
   "cell_type": "markdown",
   "metadata": {},
   "source": [
    "В данном задании мы рассмотрим один из наиболее популярных методов обучения с учителем - случайным лесом, а также с приемами, позволяющими улучшить качество его работы. Работать будем с датасетом digits."
   ]
  },
  {
   "cell_type": "markdown",
   "metadata": {},
   "source": [
    "## Импорт используемых модулей"
   ]
  },
  {
   "cell_type": "code",
   "execution_count": 1,
   "metadata": {},
   "outputs": [],
   "source": [
    "import numpy as np\n",
    "import pandas as pd\n",
    "import matplotlib.pylab as plt\n",
    "import sklearn\n",
    "from sklearn import linear_model\n",
    "from sklearn import ensemble, model_selection, metrics\n",
    "from sklearn import datasets\n",
    "from sklearn import tree"
   ]
  },
  {
   "cell_type": "markdown",
   "metadata": {},
   "source": [
    "## Загружаем датасет и знакомимся с данными"
   ]
  },
  {
   "cell_type": "code",
   "execution_count": 2,
   "metadata": {},
   "outputs": [],
   "source": [
    "#Загруаем датасет, смотрим на ключи\n",
    "digits = datasets.load_digits()\n",
    "digits.keys()\n",
    "\n",
    "#Выделяем матрицу объекты-признаки и вектор ответов\n",
    "dig_data = digits.data\n",
    "dig_target = digits.target"
   ]
  },
  {
   "cell_type": "code",
   "execution_count": 3,
   "metadata": {},
   "outputs": [
    {
     "name": "stdout",
     "output_type": "stream",
     "text": [
      "Набор данных содержит 1797 объектов и 64 признаков\n"
     ]
    }
   ],
   "source": [
    "#Просмотрим размерность данных\n",
    "print('Набор данных содержит {} объектов и {} признаков'.format(dig_data.shape[0], dig_data.shape[1]))"
   ]
  },
  {
   "cell_type": "code",
   "execution_count": 4,
   "metadata": {},
   "outputs": [
    {
     "name": "stdout",
     "output_type": "stream",
     "text": [
      "{0, 1, 2, 3, 4, 5, 6, 7, 8, 9}\n"
     ]
    }
   ],
   "source": [
    "#Уникальные метки классов\n",
    "print(set(dig_target))"
   ]
  },
  {
   "cell_type": "code",
   "execution_count": 5,
   "metadata": {},
   "outputs": [
    {
     "name": "stdout",
     "output_type": "stream",
     "text": [
      "Набор данных содержит 178 объектов класса 0\n",
      "Набор данных содержит 182 объектов класса 1\n",
      "Набор данных содержит 177 объектов класса 2\n",
      "Набор данных содержит 183 объектов класса 3\n",
      "Набор данных содержит 181 объектов класса 4\n",
      "Набор данных содержит 182 объектов класса 5\n",
      "Набор данных содержит 181 объектов класса 6\n",
      "Набор данных содержит 179 объектов класса 7\n",
      "Набор данных содержит 174 объектов класса 8\n",
      "Набор данных содержит 180 объектов класса 9\n"
     ]
    }
   ],
   "source": [
    "# Теперь посмотрим, насколько хорошо сбалансированы классы\n",
    "\n",
    "for tar in set(dig_target):\n",
    "    print('Набор данных содержит {} объектов класса {}'.format(np.sum(dig_target == tar), tar))"
   ]
  },
  {
   "cell_type": "markdown",
   "metadata": {},
   "source": [
    "Как мы видим, классы в датасете хорошо сбалансированы, а это значит, что использовать в дальнейшем accuracy как метрику качества на кросс-валидации вполне целесообразно. Всего имеется 10 классов - по классу на каждую цифру."
   ]
  },
  {
   "cell_type": "markdown",
   "metadata": {},
   "source": [
    "## Задача 1. Обычное решающее дерево"
   ]
  },
  {
   "cell_type": "markdown",
   "metadata": {},
   "source": [
    "Создайте DecisionTreeClassifier с настройками по умолчанию и измерьте качество его работы с помощью cross_val_score. Эта величина и будет ответом в пункте 1."
   ]
  },
  {
   "cell_type": "code",
   "execution_count": 6,
   "metadata": {},
   "outputs": [
    {
     "name": "stdout",
     "output_type": "stream",
     "text": [
      "Качество работы решающего дерева по кросс-валидации: 0.825\n",
      "Wall time: 555 ms\n"
     ]
    }
   ],
   "source": [
    "%%time\n",
    "\n",
    "#Создаем дерево и измеряем качество работы по кросс-валидации\n",
    "dtr = tree.DecisionTreeClassifier()\n",
    "dtr_score = model_selection.cross_val_score(dtr, dig_data, dig_target, scoring = 'accuracy', cv = 10)\n",
    "\n",
    "to_write_1 = str(round(dtr_score.mean(), 3))\n",
    "print('Качество работы решающего дерева по кросс-валидации: {}'.format(to_write_1, 3))"
   ]
  },
  {
   "cell_type": "code",
   "execution_count": 7,
   "metadata": {},
   "outputs": [],
   "source": [
    "with open (\"bagging_and_rf_1.txt\", \"w\") as answer1:\n",
    "    answer1.write(to_write_1)\n",
    "answer1.close()"
   ]
  },
  {
   "cell_type": "markdown",
   "metadata": {},
   "source": [
    "## Задача 2. Решающее дерево с бэггингом"
   ]
  },
  {
   "cell_type": "markdown",
   "metadata": {},
   "source": [
    "Воспользуйтесь BaggingClassifier из sklearn.ensemble, чтобы обучить бэггинг над DecisionTreeClassifier. Используйте в BaggingClassifier параметры по умолчанию, задав только количество деревьев равным 100. Качество классификации новой модели - ответ в пункте 2."
   ]
  },
  {
   "cell_type": "code",
   "execution_count": 8,
   "metadata": {},
   "outputs": [],
   "source": [
    "?ensemble.BaggingClassifier"
   ]
  },
  {
   "cell_type": "code",
   "execution_count": 9,
   "metadata": {},
   "outputs": [
    {
     "name": "stdout",
     "output_type": "stream",
     "text": [
      "Качество работы решающего леса с бэггингом по кросс-валидации: 0.919\n",
      "Wall time: 25.3 s\n"
     ]
    }
   ],
   "source": [
    "%%time\n",
    "\n",
    "#Создаем объект классификатора и получаем качество работы по кросс-валидации\n",
    "bg = ensemble.BaggingClassifier(n_estimators = 100)\n",
    "bg_score = model_selection.cross_val_score(bg, dig_data, dig_target, scoring = 'accuracy', cv = 10)\n",
    "\n",
    "to_write_2 = str(round(bg_score.mean(), 3))\n",
    "print('Качество работы решающего леса с бэггингом по кросс-валидации: {}'.format(to_write_2, 3))"
   ]
  },
  {
   "cell_type": "code",
   "execution_count": 10,
   "metadata": {},
   "outputs": [],
   "source": [
    "with open(\"bagging_and_rf_2.txt\", 'w') as answer_3:\n",
    "    answer_3.write(to_write_2.strip())\n",
    "answer_3.close()"
   ]
  },
  {
   "cell_type": "markdown",
   "metadata": {},
   "source": [
    "## Задача 3. Ограничение на число используемых при обучении каждого дерева признаков "
   ]
  },
  {
   "cell_type": "markdown",
   "metadata": {},
   "source": [
    "Теперь изучите параметры BaggingClassifier и выберите их такими, чтобы каждый базовый алгоритм обучался не на всех d признаках, а на d\\sqrt{d}d\n",
    "​  случайных признаков. Качество работы получившегося классификатора - ответ в пункте 3. Корень из числа признаков - часто используемая эвристика в задачах классификации, в задачах регрессии же часто берут число признаков, деленное на три. Но в общем случае ничто не мешает вам выбирать любое другое число случайных признаков."
   ]
  },
  {
   "cell_type": "code",
   "execution_count": 11,
   "metadata": {},
   "outputs": [
    {
     "name": "stdout",
     "output_type": "stream",
     "text": [
      "Количество признаков в наборе данных: 64\n",
      "Количество признаков, на котором будет обучаться каждое дерево из композиции: 8.0\n"
     ]
    }
   ],
   "source": [
    "print('Количество признаков в наборе данных: {}'.format(len(dig_data[0])))\n",
    "print('Количество признаков, на котором будет обучаться \\\n",
    "каждое дерево из композиции: {}'.format(np.sqrt(len(dig_data[0]))))"
   ]
  },
  {
   "cell_type": "markdown",
   "metadata": {},
   "source": [
    "Согласно документации, параметр BaggingClassifier, отвечающий за максимальное количество признаков, на котором будет обучаться каждое дерево - это max_features. Зададим его равным корню из общего количества признаков."
   ]
  },
  {
   "cell_type": "code",
   "execution_count": 12,
   "metadata": {},
   "outputs": [
    {
     "name": "stdout",
     "output_type": "stream",
     "text": [
      "Качество работы решающего леса с бэггингом и max_features: 0.931\n",
      "Wall time: 7.16 s\n"
     ]
    }
   ],
   "source": [
    "%%time\n",
    "\n",
    "#Выполняем шаги из предыдущих пунктов для BaggingClassifier \n",
    "#с ограничением на максимальное количество признаков\n",
    "bg_with_mf = ensemble.BaggingClassifier(n_estimators = 100, max_features = int(np.sqrt(len(dig_data[0]))))\n",
    "bg_score_mf = model_selection.cross_val_score(bg_with_mf, dig_data, \n",
    "                                              dig_target, scoring = 'accuracy', cv = 10)\n",
    "\n",
    "to_write_3 = str(round(bg_score_mf.mean(), 3))\n",
    "print('Качество работы решающего леса с бэггингом и max_features: {}'.format(to_write_3, 3))"
   ]
  },
  {
   "cell_type": "code",
   "execution_count": 13,
   "metadata": {},
   "outputs": [],
   "source": [
    "with open (\"bagging_and_rf_3.txt\", \"w\") as answer4:\n",
    "    answer4.write(to_write_3)\n",
    "answer1.close()"
   ]
  },
  {
   "cell_type": "markdown",
   "metadata": {},
   "source": [
    "## Задача 4. Выбор признаков из случайного подмножества при построении каждой вершины"
   ]
  },
  {
   "cell_type": "markdown",
   "metadata": {},
   "source": [
    "Наконец, давайте попробуем выбирать случайные признаки не один раз на все дерево, а при построении каждой вершины дерева. Сделать это несложно: нужно убрать выбор случайного подмножества признаков в BaggingClassifier и добавить его в DecisionTreeClassifier. Какой параметр за это отвечает, можно понять из документации sklearn, либо просто попробовать угадать (скорее всего, у вас сразу получится). Попробуйте выбирать опять же d\\sqrt{d}d\n",
    "​ признаков. Качество полученного классификатора на контрольной выборке и будет ответом в пункте 4."
   ]
  },
  {
   "cell_type": "markdown",
   "metadata": {},
   "source": [
    "Параметр DecisionTreeClassifier, отвечающий за выбор признаков из случайного подмножества при построении каждой вершины также называется max_features."
   ]
  },
  {
   "cell_type": "code",
   "execution_count": 14,
   "metadata": {},
   "outputs": [],
   "source": [
    "#Создаем в качестве базового алгоритма DecisionTreeClassifier с параметром max_features\n",
    "dtr_rf = tree.DecisionTreeClassifier(max_features = 'sqrt')"
   ]
  },
  {
   "cell_type": "code",
   "execution_count": 15,
   "metadata": {},
   "outputs": [
    {
     "name": "stdout",
     "output_type": "stream",
     "text": [
      "Качество работы решающего леса с бэггингом и max_features в параметрах базового алгоритма: 0.949\n",
      "Wall time: 7.21 s\n"
     ]
    }
   ],
   "source": [
    "%%time\n",
    "\n",
    "#Вновь повторяем создаем классификатор и измеряем качество его работы по кросс-валидации\n",
    "dtr_rf_b = ensemble.BaggingClassifier(base_estimator = dtr_rf, n_estimators = 100)\n",
    "dtr_rf_score = model_selection.cross_val_score(dtr_rf_b, dig_data, dig_target, \n",
    "                                               scoring = 'accuracy', cv = 10)\n",
    "\n",
    "to_write_4 = str(round(dtr_rf_score.mean(), 3))\n",
    "print('Качество работы решающего леса с бэггингом и max_features в параметрах базового алгоритма: {}'.format(to_write_4))"
   ]
  },
  {
   "cell_type": "code",
   "execution_count": 16,
   "metadata": {},
   "outputs": [],
   "source": [
    "with open(\"bagging_and_rf_4.txt\", 'w') as answer_5:\n",
    "    answer_5.write(to_write_4)\n",
    "answer_5.close()"
   ]
  },
  {
   "cell_type": "markdown",
   "metadata": {},
   "source": [
    "## Задача 5. Сравнение baggingClassifier и RandomForestClassifier"
   ]
  },
  {
   "cell_type": "markdown",
   "metadata": {},
   "source": [
    "Полученный в пункте 4 классификатор - бэггинг на рандомизированных деревьях (в которых при построении каждой вершины выбирается случайное подмножество признаков и разбиение ищется только по ним). Это в точности соответствует алгоритму Random Forest, поэтому почему бы не сравнить качество работы классификатора с RandomForestClassifier из sklearn.ensemble. Сделайте это, а затем изучите, как качество классификации на данном датасете зависит от количества деревьев, количества признаков, выбираемых при построении каждой вершины дерева, а также ограничений на глубину дерева. "
   ]
  },
  {
   "cell_type": "code",
   "execution_count": 17,
   "metadata": {},
   "outputs": [
    {
     "name": "stdout",
     "output_type": "stream",
     "text": [
      "Качество классификации для RandomForestClasifier: 0.951\n",
      "Wall time: 6.24 s\n"
     ]
    }
   ],
   "source": [
    "%%time\n",
    "\n",
    "# Создаем RandomForestClassifier и измеряем качество работы по кросс-валидации\n",
    "rf = ensemble.RandomForestClassifier(n_estimators = 100)\n",
    "rf_score = round((model_selection.cross_val_score(rf, dig_data, dig_target, cv = 10)).mean(), 3)\n",
    "\n",
    "print('Качество классификации для RandomForestClasifier: {}'.format(rf_score))"
   ]
  },
  {
   "cell_type": "markdown",
   "metadata": {},
   "source": [
    "Как видно, качество работы последней модификации BaggingClassifier почти совпадает с счетом кросс-валидации для RandomForestClassifier"
   ]
  },
  {
   "cell_type": "markdown",
   "metadata": {},
   "source": [
    "Далее, изучим качество классификации в зависимости от параметров модели."
   ]
  },
  {
   "cell_type": "code",
   "execution_count": 18,
   "metadata": {},
   "outputs": [],
   "source": [
    "#создаем интервалы изменения параметров\n",
    "\n",
    "trees_list = np.arange(10, 310, 10)\n",
    "trees_score_list = []\n",
    "\n",
    "features_list = np.arange(4, 68, 4)\n",
    "feat_score_list = []\n",
    "\n",
    "depth_list = np.arange(2, 32, 2)\n",
    "depth_score_list = []"
   ]
  },
  {
   "cell_type": "markdown",
   "metadata": {},
   "source": [
    "### Количество деревьев в композиции"
   ]
  },
  {
   "cell_type": "code",
   "execution_count": 19,
   "metadata": {},
   "outputs": [
    {
     "name": "stdout",
     "output_type": "stream",
     "text": [
      "Wall time: 2min 8s\n"
     ]
    }
   ],
   "source": [
    "%%time\n",
    "\n",
    "#В цикле обучаем модели, на каждом шаге меняя значение количества деревьев в композиции\n",
    "#После запустим аналогичные циклы, изменяя количество признаков при построении каждой вершины дерева\n",
    "#и максимальную глубину деревьев соответственно\n",
    "\n",
    "for trees in trees_list:\n",
    "    rf_research = ensemble.RandomForestClassifier(n_estimators = trees)\n",
    "    trees_research_score = round(model_selection.cross_val_score(rf_research, \n",
    "                                                dig_data, dig_target, cv = 5).mean(), 3)\n",
    "    trees_score_list.append(trees_research_score)"
   ]
  },
  {
   "cell_type": "code",
   "execution_count": 20,
   "metadata": {},
   "outputs": [
    {
     "data": {
      "image/png": "[encoded data removed]",
      "text/plain": [
       "<Figure size 576x432 with 1 Axes>"
      ]
     },
     "metadata": {
      "needs_background": "light"
     },
     "output_type": "display_data"
    }
   ],
   "source": [
    "#Построим график зависимости\n",
    "\n",
    "plt.figure(figsize = (8, 6))\n",
    "plt.plot(trees_list, trees_score_list, marker = '.')\n",
    "plt.grid(True)\n",
    "plt.xlabel('Количество деревьев в модели')\n",
    "plt.ylabel('Счёт по кросс-валидации')\n",
    "plt.title('Качество классификации случайного леса как функция от количества деревьев в модели')\n",
    "#plt.legend()\n",
    "plt.show()"
   ]
  },
  {
   "cell_type": "markdown",
   "metadata": {},
   "source": [
    "### Количество признаков при построении каждой вершины дерева"
   ]
  },
  {
   "cell_type": "code",
   "execution_count": 21,
   "metadata": {},
   "outputs": [
    {
     "name": "stdout",
     "output_type": "stream",
     "text": [
      "Wall time: 1min 15s\n"
     ]
    }
   ],
   "source": [
    "%%time\n",
    "\n",
    "for features in features_list:\n",
    "    rf_research = ensemble.RandomForestClassifier(max_features = features)\n",
    "    features_research_score = round(model_selection.cross_val_score(rf_research, \n",
    "                                                dig_data, dig_target, cv = 5).mean(), 3)\n",
    "    feat_score_list.append(features_research_score)"
   ]
  },
  {
   "cell_type": "code",
   "execution_count": 22,
   "metadata": {},
   "outputs": [
    {
     "data": {
      "image/png": "[encoded data removed]",
      "text/plain": [
       "<Figure size 576x432 with 1 Axes>"
      ]
     },
     "metadata": {
      "needs_background": "light"
     },
     "output_type": "display_data"
    }
   ],
   "source": [
    "plt.figure(figsize = (8, 6))\n",
    "plt.plot(features_list, feat_score_list, marker = '.')\n",
    "plt.grid(True)\n",
    "plt.xlabel('Количество признаков при построении каждой вершины')\n",
    "plt.ylabel('Счёт по кросс-валидации')\n",
    "plt.title('Качество классификации случайного леса как функция от количества признаков при построении вершины')\n",
    "#plt.legend()\n",
    "plt.show()"
   ]
  },
  {
   "cell_type": "markdown",
   "metadata": {},
   "source": [
    "### Максимальная глубина деревьев"
   ]
  },
  {
   "cell_type": "code",
   "execution_count": 23,
   "metadata": {},
   "outputs": [
    {
     "name": "stdout",
     "output_type": "stream",
     "text": [
      "Wall time: 31.9 s\n"
     ]
    }
   ],
   "source": [
    "%%time\n",
    "\n",
    "for depth in depth_list:\n",
    "    rf_research = ensemble.RandomForestClassifier(max_depth = depth)\n",
    "    depth_research_score = round(model_selection.cross_val_score(rf_research, \n",
    "                                                dig_data, dig_target, cv = 5).mean(), 3)\n",
    "    depth_score_list.append(depth_research_score)"
   ]
  },
  {
   "cell_type": "code",
   "execution_count": 24,
   "metadata": {},
   "outputs": [
    {
     "data": {
      "image/png": "[encoded data removed]",
      "text/plain": [
       "<Figure size 576x432 with 1 Axes>"
      ]
     },
     "metadata": {
      "needs_background": "light"
     },
     "output_type": "display_data"
    }
   ],
   "source": [
    "plt.figure(figsize = (8, 6))\n",
    "plt.plot(depth_list, depth_score_list, marker = '.')\n",
    "plt.grid(True)\n",
    "plt.xlabel('Максимальная глубина деревьев в модели')\n",
    "plt.ylabel('Счёт по кросс-валидации')\n",
    "plt.title('Качество классификации случайного леса как функция от максимальной глубины решающих деревьев')\n",
    "#plt.legend()\n",
    "plt.show()"
   ]
  },
  {
   "cell_type": "markdown",
   "metadata": {},
   "source": [
    "### Выводы по заданию"
   ]
  },
  {
   "cell_type": "markdown",
   "metadata": {},
   "source": [
    "Глядя на графики, можно сделать следующие выводы об особенностях работы случайного леса:\n",
    "1. При маленьком количестве деревьев в композиции, случайный лес работает заметно хуже, чем при большом количестве деревьев, что вполне логично, учитывая, что в данной модели результат классифиикации - это усреднение результатов работы всех базовых алгоритмов. Соответственно, чем больше деревьев в композиции, тем больше шанс, что они будут взаимно исправлять ошибки друг друга. \n",
    "2. С ростом количества деревьев в случайном лесе, в какой-то момент деревьев становится достаточно для высокого качества классификации, а затем качество существенно не меняется. Несмотря на то, что на графике после отметки в 70 деревьев всё ещё наблюдаются пики и спады, в целом качество работы модели находится в интервале 0.94 +- 0,05\n",
    "3. При большом количестве признаков (для данного датасета - 40, 50) качество классификации становится хуже, чем при малом количестве признаков (5, 10). Это связано с тем, что чем меньше признаков выбирается в каждом узле, тем более различными получаются деревья (ведь деревья сильно неустойчивы к изменениям в обучающей выборке), и тем лучше работает их композиция.\n",
    "4. При небольшой максимальной глубине деревьев (5-6) качество работы случайного леса заметно хуже, чем без ограничений, т.к. деревья получаются недообученными. С ростом глубины качество сначала улучшается, а затем не меняется существенно, т.к. из-за усреднения прогнозов и различий деревьев их переобученность в бэггинге не сказывается на итоговом качестве (все деревья преобучены по-разному, и при усреднении они компенсируют переобученность друг-друга)."
   ]
  }
 ],
 "metadata": {
  "kernelspec": {
   "display_name": "Python 3",
   "language": "python",
   "name": "python3"
  },
  "language_info": {
   "codemirror_mode": {
    "name": "ipython",
    "version": 3
   },
   "file_extension": ".py",
   "mimetype": "text/x-python",
   "name": "python",
   "nbconvert_exporter": "python",
   "pygments_lexer": "ipython3",
   "version": "3.7.6"
  }
 },
 "nbformat": 4,
 "nbformat_minor": 4
}
